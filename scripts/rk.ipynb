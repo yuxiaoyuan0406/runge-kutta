{
 "cells": [
  {
   "cell_type": "code",
   "execution_count": 15,
   "metadata": {},
   "outputs": [],
   "source": [
    "import numpy as np\n",
    "import matplotlib\n",
    "matplotlib.use(\"TkAgg\")\n",
    "import matplotlib.pyplot as plt"
   ]
  },
  {
   "cell_type": "code",
   "execution_count": 16,
   "metadata": {},
   "outputs": [],
   "source": [
    "from scipy.integrate import odeint"
   ]
  },
  {
   "cell_type": "code",
   "execution_count": 17,
   "metadata": {},
   "outputs": [],
   "source": [
    "def a(t):\n",
    "    return 0.0004 * np.sin(2*np.pi * 50 * t)\n",
    "\n",
    "def f(y,t,k,b):\n",
    "    z1, z2 = y\n",
    "    dydt = [\n",
    "        z2,\n",
    "        -k*z1 -b*z2 + a(t)\n",
    "    ]\n",
    "    return dydt"
   ]
  },
  {
   "cell_type": "code",
   "execution_count": 18,
   "metadata": {},
   "outputs": [],
   "source": [
    "mass = 7.45e-7\n",
    "spring_coef = 5.623\n",
    "dumping_coef = 4.95e-6\n",
    "\n",
    "normal_spr_coef = spring_coef/mass\n",
    "normal_dmp_coef = dumping_coef/mass"
   ]
  },
  {
   "cell_type": "code",
   "execution_count": 19,
   "metadata": {},
   "outputs": [],
   "source": [
    "y0 = [0.,0.]\n",
    "t = np.linspace(0.,2., num=2000000)"
   ]
  },
  {
   "cell_type": "code",
   "execution_count": 20,
   "metadata": {},
   "outputs": [],
   "source": [
    "sol = odeint(f, y0, t, args=(normal_spr_coef, normal_dmp_coef))"
   ]
  },
  {
   "cell_type": "code",
   "execution_count": 21,
   "metadata": {},
   "outputs": [],
   "source": [
    "plt.plot(t, sol[:, 0], 'blue', label='x(t)')\n",
    "plt.plot(t, sol[:, 1], 'green', label='v(t)')\n",
    "# plt.legend(loc='best')\n",
    "plt.xlabel('t')\n",
    "plt.grid()\n",
    "plt.show()"
   ]
  }
 ],
 "metadata": {
  "kernelspec": {
   "display_name": "Python 3",
   "language": "python",
   "name": "python3"
  },
  "language_info": {
   "codemirror_mode": {
    "name": "ipython",
    "version": 3
   },
   "file_extension": ".py",
   "mimetype": "text/x-python",
   "name": "python",
   "nbconvert_exporter": "python",
   "pygments_lexer": "ipython3",
   "version": "3.10.12"
  }
 },
 "nbformat": 4,
 "nbformat_minor": 2
}
